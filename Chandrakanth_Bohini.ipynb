{
  "nbformat": 4,
  "nbformat_minor": 0,
  "metadata": {
    "colab": {
      "name": "Chandrakanth_Bohini.ipynb",
      "provenance": [],
      "collapsed_sections": []
    },
    "kernelspec": {
      "name": "python3",
      "display_name": "Python 3"
    },
    "language_info": {
      "name": "python"
    }
  },
  "cells": [
    {
      "cell_type": "code",
      "metadata": {
        "colab": {
          "base_uri": "https://localhost:8080/"
        },
        "id": "aWdczdIfCUys",
        "outputId": "e49136ee-a3d3-4c7b-c892-54a43cae3360"
      },
      "source": [
        "import pandas as pd\n",
        "import numpy as np\n",
        "\n",
        "# Print “Hello, Welcome to Python and Data Analytics Project!” \n",
        "print(\"Hello, Welcome to Python and Data Analytics Project!\")\n",
        "print(\"I am Chandrakanth Bohini, Email:chanduapps123@gmail.com, Mobile: +91-8179843111\")"
      ],
      "execution_count": 2,
      "outputs": [
        {
          "output_type": "stream",
          "text": [
            "Hello, Welcome to Python and Data Analytics Project!\n",
            "I am Chandrakanth Bohini, Email:chanduapps123@gmail.com, Mobile: +91-8179843111\n"
          ],
          "name": "stdout"
        }
      ]
    },
    {
      "cell_type": "code",
      "metadata": {
        "colab": {
          "base_uri": "https://localhost:8080/"
        },
        "id": "dl036dQnDSu3",
        "outputId": "aa141b65-6806-4d46-f12e-04f5bdab84e2"
      },
      "source": [
        "# Reading Data using PANDAS\n",
        "#Used pandas read_csv() function to read the required file \n",
        "\n",
        "pdap = pd.DataFrame(pd.read_csv('/content/train.csv'))\n",
        "#Used pandas dataframe() function to convert file into data frame.\n",
        "pdap.head()\n",
        "# pandas shape is used to know the numbers of records in the csv file-- Rows and columns\n",
        "df= pdap.shape\n",
        "print(\"Number of rows and columns in the csv file are : \",df)\n",
        "dfrows= pdap.shape[0]\n",
        "print(\"Number of rows in the csv file are : \",dfrows)\n",
        "dfcolumns= pdap.shape[1]\n",
        "print(\"Number of columns in the csv file are : \",dfcolumns)"
      ],
      "execution_count": 4,
      "outputs": [
        {
          "output_type": "stream",
          "text": [
            "Number of rows and columns in the csv file are :  (891, 12)\n",
            "Number of rows in the csv file are :  891\n",
            "Number of columns in the csv file are :  12\n"
          ],
          "name": "stdout"
        }
      ]
    },
    {
      "cell_type": "markdown",
      "metadata": {
        "id": "_7GiwCKrDteb"
      },
      "source": [
        "### Discription of the attributes of the dataset\n",
        "#### Pclass : Passanger Class(1=1st class, 2=2nd class, 3=3rd class)\n",
        "#### Survived : Survival(0= NO(Not survied or died),  1= YES(Survied or lived))\n",
        "#### Name : Passanger Name\n",
        "#### Sex : Passanger Gender\n",
        "#### Age : Passanger Age\n",
        "#### SibSp : Passanger's siblings or spouses aboard\n",
        "#### Parch : Passanger's Parents or Children aboard\n",
        "#### Ticket : Passanger Ticket Number\n",
        "#### Fare : Passanger Ticket Fare\n",
        "#### Cabin : Passanger's Cabin\n",
        "#### Cabin : Port of Embarkation(C= Cherbourg, Q=Queenstown, S= Southampton)\n",
        "\n",
        "\n",
        "\n",
        "# Handling Null Values\n",
        "\n",
        "#### The dataset may contain missing values, we cannot ignore those missing values.\n",
        "#### We can Either drop entire row or column or Fill the missing values wih some approx values.\n",
        "#### Example Mean of all values for that column."
      ]
    },
    {
      "cell_type": "code",
      "metadata": {
        "colab": {
          "base_uri": "https://localhost:8080/"
        },
        "id": "zVYY2mh_EIk5",
        "outputId": "e6e6fe0b-f873-4ee2-c91e-05f7694338bd"
      },
      "source": [
        "null_value_eachcolum = pdap.isnull().sum() # This shows NULL Values in each column\n",
        "print(\"Null Values in each columns are as follows\")\n",
        "print(1*\"\\n\")\n",
        "null_value_eachcolum"
      ],
      "execution_count": 5,
      "outputs": [
        {
          "output_type": "stream",
          "text": [
            "Null Values in each columns are as follows\n",
            "\n",
            "\n"
          ],
          "name": "stdout"
        },
        {
          "output_type": "execute_result",
          "data": {
            "text/plain": [
              "PassengerId      0\n",
              "Survived         0\n",
              "Pclass           0\n",
              "Name             0\n",
              "Sex              0\n",
              "Age            177\n",
              "SibSp            0\n",
              "Parch            0\n",
              "Ticket           0\n",
              "Fare             0\n",
              "Cabin          687\n",
              "Embarked         2\n",
              "dtype: int64"
            ]
          },
          "metadata": {
            "tags": []
          },
          "execution_count": 5
        }
      ]
    },
    {
      "cell_type": "markdown",
      "metadata": {
        "id": "OdFoMk4eEMeJ"
      },
      "source": [
        "### Seperating out the columns which have more than 35% of the values missing in the dataset \n",
        "\n",
        "\n",
        "###### Out of 891 rows for Age column there are 177 rows and for Cabin there are 687 rows and for Embarked there are 2 having null values \n",
        "###### We are storing  only those  columns  which have more than 35% of the data missing.\n",
        "#### As we know we can handling these NULL Values by dropping entire rows r columns or by filling Mean of all values for that column"
      ]
    },
    {
      "cell_type": "code",
      "metadata": {
        "colab": {
          "base_uri": "https://localhost:8080/"
        },
        "id": "KsxnIQnrEUcf",
        "outputId": "f5363ab8-a4d7-491c-b39b-b30928dc5e99"
      },
      "source": [
        "# Here \"df\" is called from the top.\n",
        "# where we have declared \"df= pdap.shape\" is the pandas shape, \n",
        "# It is used to know the numbers of records in the csv file-In the tuple[0] indicates the first value-\"dfrows\"--891\n",
        "# \"null_value_eachcolum\" is shows NULL Values in each column \n",
        "drop_col = null_value_eachcolum[null_value_eachcolum > (35/100 *dfrows)]\n",
        "drop_col\n",
        "print(\"Column having more than 35% of data as null values are  :\", drop_col)\n",
        "# This command or code will print the column name along with records \n",
        "# which satisfify the above condition. Here Cabin is having more than 35% of data as null values."
      ],
      "execution_count": 6,
      "outputs": [
        {
          "output_type": "stream",
          "text": [
            "Column having more than 35% of data as null values are  : Cabin    687\n",
            "dtype: int64\n"
          ],
          "name": "stdout"
        }
      ]
    },
    {
      "cell_type": "markdown",
      "metadata": {
        "id": "ZYU6MXwrEY4s"
      },
      "source": [
        "### Note: There is no specific number  after which  you should drop the column."
      ]
    },
    {
      "cell_type": "code",
      "metadata": {
        "colab": {
          "base_uri": "https://localhost:8080/"
        },
        "id": "Z5mbW8h6EaUD",
        "outputId": "36a602a2-dc2a-418e-a64b-464e31b70f14"
      },
      "source": [
        "# Dropped the Cabin \n",
        "pdap.isnull().sum()"
      ],
      "execution_count": 7,
      "outputs": [
        {
          "output_type": "execute_result",
          "data": {
            "text/plain": [
              "PassengerId      0\n",
              "Survived         0\n",
              "Pclass           0\n",
              "Name             0\n",
              "Sex              0\n",
              "Age            177\n",
              "SibSp            0\n",
              "Parch            0\n",
              "Ticket           0\n",
              "Fare             0\n",
              "Cabin          687\n",
              "Embarked         2\n",
              "dtype: int64"
            ]
          },
          "metadata": {
            "tags": []
          },
          "execution_count": 7
        }
      ]
    },
    {
      "cell_type": "code",
      "metadata": {
        "colab": {
          "base_uri": "https://localhost:8080/"
        },
        "id": "7w_T4COLEfKa",
        "outputId": "b4b42980-f9ed-4ede-84dd-cb19594355fd"
      },
      "source": [
        "drop_col.index # index is having the column Cabin\n",
        "\n",
        " ##pandas.DataFrame.drop\n",
        "##Drop specified labels from rows or columns.\n",
        "\n",
        "##Remove rows or columns by specifying label names and corresponding axis, or\n",
        "##by specifying directly index or column names. \n",
        "##When using a multi-index, labels on different levels can be removed by specifying the level\n",
        "\n",
        "\n",
        "#Parameters\n",
        "#labels : single label or list-like\n",
        "#Index or column labels to drop.\n",
        "\n",
        "#axis:  {0 or ‘index’, 1 or ‘columns’}, default 0\n",
        "#Whether to drop labels from the index (0 or ‘index’) or columns (1 or ‘columns’).\n",
        "\n",
        "#index:  single label or list-like\n",
        "#Alternative to specifying axis (labels, axis=0 is equivalent to index=labels).\n",
        "\n",
        "#columns: single label or list-like\n",
        "#Alternative to specifying axis (labels, axis=1 is equivalent to columns=labels).\n",
        "\n",
        "#level:  int or level name, optional\n",
        "#For MultiIndex, level from which the labels will be removed.\n",
        "\n",
        "#inplace: bool, default False\n",
        "#If False, return a copy. Otherwise, do operation inplace and return None.\n",
        "\n",
        "#errors: {‘ignore’, ‘raise’}, default ‘raise’\n",
        "#If ‘ignore’, suppress error and only existing labels are dropped.\n",
        "\n",
        "#Returns: DataFrame or None\n",
        "#DataFrame without the removed index or column labels or None if inplace=True.\n",
        "\n",
        "#Raises: KeyError\n",
        "#If any of the labels is not found in the selected axis."
      ],
      "execution_count": 8,
      "outputs": [
        {
          "output_type": "execute_result",
          "data": {
            "text/plain": [
              "Index(['Cabin'], dtype='object')"
            ]
          },
          "metadata": {
            "tags": []
          },
          "execution_count": 8
        }
      ]
    },
    {
      "cell_type": "code",
      "metadata": {
        "colab": {
          "base_uri": "https://localhost:8080/"
        },
        "id": "kqChiU1gEi5u",
        "outputId": "f7d80c83-5fb6-4a81-ed9a-2f0a1a76b44e"
      },
      "source": [
        "#To delete the column from dataframe\n",
        "pdap.drop(drop_col.index, axis=1, inplace=True)\n",
        "pdap.isnull().sum()"
      ],
      "execution_count": 9,
      "outputs": [
        {
          "output_type": "execute_result",
          "data": {
            "text/plain": [
              "PassengerId      0\n",
              "Survived         0\n",
              "Pclass           0\n",
              "Name             0\n",
              "Sex              0\n",
              "Age            177\n",
              "SibSp            0\n",
              "Parch            0\n",
              "Ticket           0\n",
              "Fare             0\n",
              "Embarked         2\n",
              "dtype: int64"
            ]
          },
          "metadata": {
            "tags": []
          },
          "execution_count": 9
        }
      ]
    },
    {
      "cell_type": "markdown",
      "metadata": {
        "id": "3JL1qmvUEntX"
      },
      "source": [
        "Note : We do not drop all other columns, We have dropped Cabin column since it was not much useful\n",
        "\n",
        "## Other columns can be filled with mean of all values for that column\n",
        "## Pandas.fillna can be used here"
      ]
    },
    {
      "cell_type": "code",
      "metadata": {
        "id": "2c0_gw-iEtRu"
      },
      "source": [
        "Mean_fill_value = pdap.fillna(pdap.mean(), inplace=True) # It fill the dataframe with specific value.\n",
        "\n",
        "# Example for Age value it will calculate the Mean of the rest of the vlaues and all the NULL Values \n",
        "# are filled with the mean value. Hear we have taken Mean because the Age column is important column and \n",
        "# can not be a Null values, the appropiate value should be the Mean Value.\n",
        "\n"
      ],
      "execution_count": 11,
      "outputs": []
    },
    {
      "cell_type": "code",
      "metadata": {
        "colab": {
          "base_uri": "https://localhost:8080/"
        },
        "id": "njhN9kvxEwfO",
        "outputId": "04dc6910-3796-4e3f-a886-f98bc0dd9c6d"
      },
      "source": [
        "print(\"Null Values in each columns  :\",pdap.isnull().sum())"
      ],
      "execution_count": 12,
      "outputs": [
        {
          "output_type": "stream",
          "text": [
            "Null Values in each columns  : PassengerId    0\n",
            "Survived       0\n",
            "Pclass         0\n",
            "Name           0\n",
            "Sex            0\n",
            "Age            0\n",
            "SibSp          0\n",
            "Parch          0\n",
            "Ticket         0\n",
            "Fare           0\n",
            "Embarked       2\n",
            "dtype: int64\n"
          ],
          "name": "stdout"
        }
      ]
    },
    {
      "cell_type": "markdown",
      "metadata": {
        "id": "nbEDJSdOE0ar"
      },
      "source": [
        "### Note : Here Age has been filled by the mean value but the column \"Embarked\" is not filled with mean values \n",
        "### because this columns has strings and we cannot calcualte the mean of strings."
      ]
    },
    {
      "cell_type": "code",
      "metadata": {
        "colab": {
          "base_uri": "https://localhost:8080/"
        },
        "id": "UdXbcypQE3fG",
        "outputId": "5485da45-f6aa-462c-f6b6-c32550bc3e6e"
      },
      "source": [
        "# To dispay a column details \n",
        "Col_details= pdap['Embarked'].describe()\n",
        "print(\"Dispay a column details  :\",Col_details)"
      ],
      "execution_count": 13,
      "outputs": [
        {
          "output_type": "stream",
          "text": [
            "Dispay a column details  : count     889\n",
            "unique      3\n",
            "top         S\n",
            "freq      644\n",
            "Name: Embarked, dtype: object\n"
          ],
          "name": "stdout"
        }
      ]
    },
    {
      "cell_type": "code",
      "metadata": {
        "colab": {
          "base_uri": "https://localhost:8080/",
          "height": 476
        },
        "id": "d8wsjXEHE7W6",
        "outputId": "2278eaea-b451-4441-b023-cbd7a0fa60cc"
      },
      "source": [
        "# Hear count is showing the Not Null values (Out of 891 records 889 are not null and 2 are null values)\n",
        "# unique will shows the same values in the column, Example C,Q,S\n",
        "# Top shows the higest unique values. Example - \"S\"\n",
        "# freq tells the count of the Top--How many records are there\n",
        "# Now we will fill the NULL values with the most frequent value in the column.\n",
        "\n",
        "pdap['Embarked'].fillna('S',inplace=True) # Filling the Null values with \"S\" inthe Embarked Column\n",
        "\n",
        "print(\"Null Values in each columns  :\",pdap.isnull().sum())\n",
        "\n",
        "\n",
        "pdap.corr() # This tells about the co relation between different columns."
      ],
      "execution_count": 14,
      "outputs": [
        {
          "output_type": "stream",
          "text": [
            "Null Values in each columns  : PassengerId    0\n",
            "Survived       0\n",
            "Pclass         0\n",
            "Name           0\n",
            "Sex            0\n",
            "Age            0\n",
            "SibSp          0\n",
            "Parch          0\n",
            "Ticket         0\n",
            "Fare           0\n",
            "Embarked       0\n",
            "dtype: int64\n"
          ],
          "name": "stdout"
        },
        {
          "output_type": "execute_result",
          "data": {
            "text/html": [
              "<div>\n",
              "<style scoped>\n",
              "    .dataframe tbody tr th:only-of-type {\n",
              "        vertical-align: middle;\n",
              "    }\n",
              "\n",
              "    .dataframe tbody tr th {\n",
              "        vertical-align: top;\n",
              "    }\n",
              "\n",
              "    .dataframe thead th {\n",
              "        text-align: right;\n",
              "    }\n",
              "</style>\n",
              "<table border=\"1\" class=\"dataframe\">\n",
              "  <thead>\n",
              "    <tr style=\"text-align: right;\">\n",
              "      <th></th>\n",
              "      <th>PassengerId</th>\n",
              "      <th>Survived</th>\n",
              "      <th>Pclass</th>\n",
              "      <th>Age</th>\n",
              "      <th>SibSp</th>\n",
              "      <th>Parch</th>\n",
              "      <th>Fare</th>\n",
              "    </tr>\n",
              "  </thead>\n",
              "  <tbody>\n",
              "    <tr>\n",
              "      <th>PassengerId</th>\n",
              "      <td>1.000000</td>\n",
              "      <td>-0.005007</td>\n",
              "      <td>-0.035144</td>\n",
              "      <td>0.033207</td>\n",
              "      <td>-0.057527</td>\n",
              "      <td>-0.001652</td>\n",
              "      <td>0.012658</td>\n",
              "    </tr>\n",
              "    <tr>\n",
              "      <th>Survived</th>\n",
              "      <td>-0.005007</td>\n",
              "      <td>1.000000</td>\n",
              "      <td>-0.338481</td>\n",
              "      <td>-0.069809</td>\n",
              "      <td>-0.035322</td>\n",
              "      <td>0.081629</td>\n",
              "      <td>0.257307</td>\n",
              "    </tr>\n",
              "    <tr>\n",
              "      <th>Pclass</th>\n",
              "      <td>-0.035144</td>\n",
              "      <td>-0.338481</td>\n",
              "      <td>1.000000</td>\n",
              "      <td>-0.331339</td>\n",
              "      <td>0.083081</td>\n",
              "      <td>0.018443</td>\n",
              "      <td>-0.549500</td>\n",
              "    </tr>\n",
              "    <tr>\n",
              "      <th>Age</th>\n",
              "      <td>0.033207</td>\n",
              "      <td>-0.069809</td>\n",
              "      <td>-0.331339</td>\n",
              "      <td>1.000000</td>\n",
              "      <td>-0.232625</td>\n",
              "      <td>-0.179191</td>\n",
              "      <td>0.091566</td>\n",
              "    </tr>\n",
              "    <tr>\n",
              "      <th>SibSp</th>\n",
              "      <td>-0.057527</td>\n",
              "      <td>-0.035322</td>\n",
              "      <td>0.083081</td>\n",
              "      <td>-0.232625</td>\n",
              "      <td>1.000000</td>\n",
              "      <td>0.414838</td>\n",
              "      <td>0.159651</td>\n",
              "    </tr>\n",
              "    <tr>\n",
              "      <th>Parch</th>\n",
              "      <td>-0.001652</td>\n",
              "      <td>0.081629</td>\n",
              "      <td>0.018443</td>\n",
              "      <td>-0.179191</td>\n",
              "      <td>0.414838</td>\n",
              "      <td>1.000000</td>\n",
              "      <td>0.216225</td>\n",
              "    </tr>\n",
              "    <tr>\n",
              "      <th>Fare</th>\n",
              "      <td>0.012658</td>\n",
              "      <td>0.257307</td>\n",
              "      <td>-0.549500</td>\n",
              "      <td>0.091566</td>\n",
              "      <td>0.159651</td>\n",
              "      <td>0.216225</td>\n",
              "      <td>1.000000</td>\n",
              "    </tr>\n",
              "  </tbody>\n",
              "</table>\n",
              "</div>"
            ],
            "text/plain": [
              "             PassengerId  Survived    Pclass  ...     SibSp     Parch      Fare\n",
              "PassengerId     1.000000 -0.005007 -0.035144  ... -0.057527 -0.001652  0.012658\n",
              "Survived       -0.005007  1.000000 -0.338481  ... -0.035322  0.081629  0.257307\n",
              "Pclass         -0.035144 -0.338481  1.000000  ...  0.083081  0.018443 -0.549500\n",
              "Age             0.033207 -0.069809 -0.331339  ... -0.232625 -0.179191  0.091566\n",
              "SibSp          -0.057527 -0.035322  0.083081  ...  1.000000  0.414838  0.159651\n",
              "Parch          -0.001652  0.081629  0.018443  ...  0.414838  1.000000  0.216225\n",
              "Fare            0.012658  0.257307 -0.549500  ...  0.159651  0.216225  1.000000\n",
              "\n",
              "[7 rows x 7 columns]"
            ]
          },
          "metadata": {
            "tags": []
          },
          "execution_count": 14
        }
      ]
    },
    {
      "cell_type": "markdown",
      "metadata": {
        "id": "tJyU2hoGFJfq"
      },
      "source": [
        "# Correlation: \n",
        "### Correlation summarizes the strength and direction of the linear (straight-line) association between two quantitative variables. Denoted by r, it takes values between -1 and +1. A positive value for r indicates a positive association, and a negative value for r indicates a negative association\n",
        "\n",
        "### We can observed there is a good correlation b/w Pclass and Fare"
      ]
    },
    {
      "cell_type": "code",
      "metadata": {
        "colab": {
          "base_uri": "https://localhost:8080/",
          "height": 234
        },
        "id": "1dd1f0DKFMbe",
        "outputId": "dbdec0db-e095-4677-e4c7-3a5a79830b9b"
      },
      "source": [
        "# We can make a new column family_size by combining the below columns\n",
        "# SibSp : Passanger's siblings or spouses aboard\n",
        "# Parch : Passanger's Parents or Children aboard\n",
        "\n",
        "pdap['FamilySize'] = pdap['SibSp'] + pdap['Parch'] # Added new column by combining SibSp and Parch columns\n",
        "pdap.drop(['SibSp', 'Parch'], axis=1, inplace=True)# Dropping the SibSp and Parch Columns \n",
        "pdap.corr() # Correlation b/w Columns"
      ],
      "execution_count": 15,
      "outputs": [
        {
          "output_type": "execute_result",
          "data": {
            "text/html": [
              "<div>\n",
              "<style scoped>\n",
              "    .dataframe tbody tr th:only-of-type {\n",
              "        vertical-align: middle;\n",
              "    }\n",
              "\n",
              "    .dataframe tbody tr th {\n",
              "        vertical-align: top;\n",
              "    }\n",
              "\n",
              "    .dataframe thead th {\n",
              "        text-align: right;\n",
              "    }\n",
              "</style>\n",
              "<table border=\"1\" class=\"dataframe\">\n",
              "  <thead>\n",
              "    <tr style=\"text-align: right;\">\n",
              "      <th></th>\n",
              "      <th>PassengerId</th>\n",
              "      <th>Survived</th>\n",
              "      <th>Pclass</th>\n",
              "      <th>Age</th>\n",
              "      <th>Fare</th>\n",
              "      <th>FamilySize</th>\n",
              "    </tr>\n",
              "  </thead>\n",
              "  <tbody>\n",
              "    <tr>\n",
              "      <th>PassengerId</th>\n",
              "      <td>1.000000</td>\n",
              "      <td>-0.005007</td>\n",
              "      <td>-0.035144</td>\n",
              "      <td>0.033207</td>\n",
              "      <td>0.012658</td>\n",
              "      <td>-0.040143</td>\n",
              "    </tr>\n",
              "    <tr>\n",
              "      <th>Survived</th>\n",
              "      <td>-0.005007</td>\n",
              "      <td>1.000000</td>\n",
              "      <td>-0.338481</td>\n",
              "      <td>-0.069809</td>\n",
              "      <td>0.257307</td>\n",
              "      <td>0.016639</td>\n",
              "    </tr>\n",
              "    <tr>\n",
              "      <th>Pclass</th>\n",
              "      <td>-0.035144</td>\n",
              "      <td>-0.338481</td>\n",
              "      <td>1.000000</td>\n",
              "      <td>-0.331339</td>\n",
              "      <td>-0.549500</td>\n",
              "      <td>0.065997</td>\n",
              "    </tr>\n",
              "    <tr>\n",
              "      <th>Age</th>\n",
              "      <td>0.033207</td>\n",
              "      <td>-0.069809</td>\n",
              "      <td>-0.331339</td>\n",
              "      <td>1.000000</td>\n",
              "      <td>0.091566</td>\n",
              "      <td>-0.248512</td>\n",
              "    </tr>\n",
              "    <tr>\n",
              "      <th>Fare</th>\n",
              "      <td>0.012658</td>\n",
              "      <td>0.257307</td>\n",
              "      <td>-0.549500</td>\n",
              "      <td>0.091566</td>\n",
              "      <td>1.000000</td>\n",
              "      <td>0.217138</td>\n",
              "    </tr>\n",
              "    <tr>\n",
              "      <th>FamilySize</th>\n",
              "      <td>-0.040143</td>\n",
              "      <td>0.016639</td>\n",
              "      <td>0.065997</td>\n",
              "      <td>-0.248512</td>\n",
              "      <td>0.217138</td>\n",
              "      <td>1.000000</td>\n",
              "    </tr>\n",
              "  </tbody>\n",
              "</table>\n",
              "</div>"
            ],
            "text/plain": [
              "             PassengerId  Survived    Pclass       Age      Fare  FamilySize\n",
              "PassengerId     1.000000 -0.005007 -0.035144  0.033207  0.012658   -0.040143\n",
              "Survived       -0.005007  1.000000 -0.338481 -0.069809  0.257307    0.016639\n",
              "Pclass         -0.035144 -0.338481  1.000000 -0.331339 -0.549500    0.065997\n",
              "Age             0.033207 -0.069809 -0.331339  1.000000  0.091566   -0.248512\n",
              "Fare            0.012658  0.257307 -0.549500  0.091566  1.000000    0.217138\n",
              "FamilySize     -0.040143  0.016639  0.065997 -0.248512  0.217138    1.000000"
            ]
          },
          "metadata": {
            "tags": []
          },
          "execution_count": 15
        }
      ]
    },
    {
      "cell_type": "markdown",
      "metadata": {
        "id": "Ooht1R3_FP1K"
      },
      "source": [
        "### FamilySize is not have much correlation with Survived rate.\n",
        "### Pclass is ahving good correlation with Survived rate.\n",
        "### Checking weather the person was alone or not can effect the survived rate."
      ]
    },
    {
      "cell_type": "code",
      "metadata": {
        "colab": {
          "base_uri": "https://localhost:8080/",
          "height": 203
        },
        "id": "7dakRGYOFRKF",
        "outputId": "ab19ae14-49f6-405a-9724-c13ae013383f"
      },
      "source": [
        "pdap['Alone'] = [0 if pdap['FamilySize'][i]>0 else 1 for i in pdap.index] # Creating a new column \"Alone\" \n",
        "# This Column will print the value \"0\" if the familysize is greater than 0 and else \"1\"\n",
        "pdap.head()"
      ],
      "execution_count": 16,
      "outputs": [
        {
          "output_type": "execute_result",
          "data": {
            "text/html": [
              "<div>\n",
              "<style scoped>\n",
              "    .dataframe tbody tr th:only-of-type {\n",
              "        vertical-align: middle;\n",
              "    }\n",
              "\n",
              "    .dataframe tbody tr th {\n",
              "        vertical-align: top;\n",
              "    }\n",
              "\n",
              "    .dataframe thead th {\n",
              "        text-align: right;\n",
              "    }\n",
              "</style>\n",
              "<table border=\"1\" class=\"dataframe\">\n",
              "  <thead>\n",
              "    <tr style=\"text-align: right;\">\n",
              "      <th></th>\n",
              "      <th>PassengerId</th>\n",
              "      <th>Survived</th>\n",
              "      <th>Pclass</th>\n",
              "      <th>Name</th>\n",
              "      <th>Sex</th>\n",
              "      <th>Age</th>\n",
              "      <th>Ticket</th>\n",
              "      <th>Fare</th>\n",
              "      <th>Embarked</th>\n",
              "      <th>FamilySize</th>\n",
              "      <th>Alone</th>\n",
              "    </tr>\n",
              "  </thead>\n",
              "  <tbody>\n",
              "    <tr>\n",
              "      <th>0</th>\n",
              "      <td>1</td>\n",
              "      <td>0</td>\n",
              "      <td>3</td>\n",
              "      <td>Braund, Mr. Owen Harris</td>\n",
              "      <td>male</td>\n",
              "      <td>22.0</td>\n",
              "      <td>A/5 21171</td>\n",
              "      <td>7.2500</td>\n",
              "      <td>S</td>\n",
              "      <td>1</td>\n",
              "      <td>0</td>\n",
              "    </tr>\n",
              "    <tr>\n",
              "      <th>1</th>\n",
              "      <td>2</td>\n",
              "      <td>1</td>\n",
              "      <td>1</td>\n",
              "      <td>Cumings, Mrs. John Bradley (Florence Briggs Th...</td>\n",
              "      <td>female</td>\n",
              "      <td>38.0</td>\n",
              "      <td>PC 17599</td>\n",
              "      <td>71.2833</td>\n",
              "      <td>C</td>\n",
              "      <td>1</td>\n",
              "      <td>0</td>\n",
              "    </tr>\n",
              "    <tr>\n",
              "      <th>2</th>\n",
              "      <td>3</td>\n",
              "      <td>1</td>\n",
              "      <td>3</td>\n",
              "      <td>Heikkinen, Miss. Laina</td>\n",
              "      <td>female</td>\n",
              "      <td>26.0</td>\n",
              "      <td>STON/O2. 3101282</td>\n",
              "      <td>7.9250</td>\n",
              "      <td>S</td>\n",
              "      <td>0</td>\n",
              "      <td>1</td>\n",
              "    </tr>\n",
              "    <tr>\n",
              "      <th>3</th>\n",
              "      <td>4</td>\n",
              "      <td>1</td>\n",
              "      <td>1</td>\n",
              "      <td>Futrelle, Mrs. Jacques Heath (Lily May Peel)</td>\n",
              "      <td>female</td>\n",
              "      <td>35.0</td>\n",
              "      <td>113803</td>\n",
              "      <td>53.1000</td>\n",
              "      <td>S</td>\n",
              "      <td>1</td>\n",
              "      <td>0</td>\n",
              "    </tr>\n",
              "    <tr>\n",
              "      <th>4</th>\n",
              "      <td>5</td>\n",
              "      <td>0</td>\n",
              "      <td>3</td>\n",
              "      <td>Allen, Mr. William Henry</td>\n",
              "      <td>male</td>\n",
              "      <td>35.0</td>\n",
              "      <td>373450</td>\n",
              "      <td>8.0500</td>\n",
              "      <td>S</td>\n",
              "      <td>0</td>\n",
              "      <td>1</td>\n",
              "    </tr>\n",
              "  </tbody>\n",
              "</table>\n",
              "</div>"
            ],
            "text/plain": [
              "   PassengerId  Survived  Pclass  ... Embarked FamilySize  Alone\n",
              "0            1         0       3  ...        S          1      0\n",
              "1            2         1       1  ...        C          1      0\n",
              "2            3         1       3  ...        S          0      1\n",
              "3            4         1       1  ...        S          1      0\n",
              "4            5         0       3  ...        S          0      1\n",
              "\n",
              "[5 rows x 11 columns]"
            ]
          },
          "metadata": {
            "tags": []
          },
          "execution_count": 16
        }
      ]
    },
    {
      "cell_type": "code",
      "metadata": {
        "colab": {
          "base_uri": "https://localhost:8080/"
        },
        "id": "fNFdCgzOFXZW",
        "outputId": "06688e06-8a7d-458c-f7d5-10257645ef62"
      },
      "source": [
        "# Calculating the Mean values for Alone and Survived\n",
        "pdap.groupby(['Alone'])['Survived'].mean()\n",
        "\n",
        "# Groupby for the \"Alone\" Column the Value of 0 and 1 it will calculate the mean"
      ],
      "execution_count": 17,
      "outputs": [
        {
          "output_type": "execute_result",
          "data": {
            "text/plain": [
              "Alone\n",
              "0    0.505650\n",
              "1    0.303538\n",
              "Name: Survived, dtype: float64"
            ]
          },
          "metadata": {
            "tags": []
          },
          "execution_count": 17
        }
      ]
    },
    {
      "cell_type": "markdown",
      "metadata": {
        "id": "hR9pTsKIFbav"
      },
      "source": [
        "#### This means that there is greater chance for survival who are not alone.\n",
        "#### If he had a family the better chance of survival.-- This because might he/she belonging to rich class and might be prioritized over other."
      ]
    },
    {
      "cell_type": "code",
      "metadata": {
        "colab": {
          "base_uri": "https://localhost:8080/",
          "height": 110
        },
        "id": "4xFprZUBFeKA",
        "outputId": "19fecd97-b56b-4c26-b9a8-850d6e8f8f14"
      },
      "source": [
        "pdap[['Alone','Fare']].corr() # Correlation b/w Alone and fare"
      ],
      "execution_count": 18,
      "outputs": [
        {
          "output_type": "execute_result",
          "data": {
            "text/html": [
              "<div>\n",
              "<style scoped>\n",
              "    .dataframe tbody tr th:only-of-type {\n",
              "        vertical-align: middle;\n",
              "    }\n",
              "\n",
              "    .dataframe tbody tr th {\n",
              "        vertical-align: top;\n",
              "    }\n",
              "\n",
              "    .dataframe thead th {\n",
              "        text-align: right;\n",
              "    }\n",
              "</style>\n",
              "<table border=\"1\" class=\"dataframe\">\n",
              "  <thead>\n",
              "    <tr style=\"text-align: right;\">\n",
              "      <th></th>\n",
              "      <th>Alone</th>\n",
              "      <th>Fare</th>\n",
              "    </tr>\n",
              "  </thead>\n",
              "  <tbody>\n",
              "    <tr>\n",
              "      <th>Alone</th>\n",
              "      <td>1.000000</td>\n",
              "      <td>-0.271832</td>\n",
              "    </tr>\n",
              "    <tr>\n",
              "      <th>Fare</th>\n",
              "      <td>-0.271832</td>\n",
              "      <td>1.000000</td>\n",
              "    </tr>\n",
              "  </tbody>\n",
              "</table>\n",
              "</div>"
            ],
            "text/plain": [
              "          Alone      Fare\n",
              "Alone  1.000000 -0.271832\n",
              "Fare  -0.271832  1.000000"
            ]
          },
          "metadata": {
            "tags": []
          },
          "execution_count": 18
        }
      ]
    },
    {
      "cell_type": "code",
      "metadata": {
        "colab": {
          "base_uri": "https://localhost:8080/"
        },
        "id": "mBUKfPkfFh8l",
        "outputId": "52840425-fdac-4552-8a41-25ca36b25a90"
      },
      "source": [
        "# Here we can see if the person  was not alone, the chance, the ticket price is higher\n",
        "\n",
        "pdap['Sex'] = [0 if pdap['Sex'][i]=='male'else 1 for i in pdap.index] # 1 for female and 0 for male\n",
        "pdap.groupby(['Sex'])['Survived'].mean()\n",
        "\n",
        "## Female has the more chance of suvival over Male"
      ],
      "execution_count": 19,
      "outputs": [
        {
          "output_type": "execute_result",
          "data": {
            "text/plain": [
              "Sex\n",
              "0    0.188908\n",
              "1    0.742038\n",
              "Name: Survived, dtype: float64"
            ]
          },
          "metadata": {
            "tags": []
          },
          "execution_count": 19
        }
      ]
    },
    {
      "cell_type": "code",
      "metadata": {
        "colab": {
          "base_uri": "https://localhost:8080/"
        },
        "id": "oRd_DZFnFmCa",
        "outputId": "6229ba18-ee76-4f32-8acf-e6eef90ff36d"
      },
      "source": [
        "#Embarked with the Survived\n",
        "\n",
        "pdap.groupby(['Embarked'])['Survived'].mean()\n",
        "\n",
        "# The Survival is more who has embarked as \"C\""
      ],
      "execution_count": 20,
      "outputs": [
        {
          "output_type": "execute_result",
          "data": {
            "text/plain": [
              "Embarked\n",
              "C    0.553571\n",
              "Q    0.389610\n",
              "S    0.339009\n",
              "Name: Survived, dtype: float64"
            ]
          },
          "metadata": {
            "tags": []
          },
          "execution_count": 20
        }
      ]
    },
    {
      "cell_type": "markdown",
      "metadata": {
        "id": "__Jfg1aGFqKK"
      },
      "source": [
        "# Conclusion:\n",
        "\n",
        "   - Female passengers are more prioritized Over Men.\n",
        "   - Pclass is having high survival rate than others.\n",
        "   - Who are travelling with family having high suvival rate than who are travellig Alone.\n",
        "   - Passengers who boarded/Embarked at \"C- Cherbourg\" survived more than others."
      ]
    }
  ]
}